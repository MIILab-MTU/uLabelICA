{
 "cells": [
  {
   "cell_type": "code",
   "execution_count": 1,
   "id": "bdf5ae86",
   "metadata": {},
   "outputs": [],
   "source": [
    "\"\"\"\n",
    "CODE to generate artery graphs.\n",
    "\"\"\"\n",
    "import json\n",
    "import time\n",
    "\n",
    "import matlab.engine\n",
    "import networkx as nx\n",
    "import sys\n",
    "sys.path.append(\"../../\")\n",
    "import pandas as pd\n",
    "import webcolors\n",
    "import numpy as np\n",
    "import os\n",
    "import math\n",
    "import cv2\n",
    "import matplotlib.pyplot as plt\n",
    "import pickle\n",
    "import argparse\n",
    "\n",
    "from scipy.interpolate import interp1d\n",
    "from tqdm import tqdm\n",
    "from skimage import measure\n",
    "from glob import glob\n",
    "\n",
    "from core.utils.module import Node, VesselSegment\n",
    "from core.graph_generation import visualization as visualizer\n",
    "from PIL import Image\n",
    "\n",
    "\n",
    "import constants"
   ]
  },
  {
   "cell_type": "code",
   "execution_count": 9,
   "id": "6df6ad09",
   "metadata": {},
   "outputs": [],
   "source": [
    "from data_processing import diameter_map, get_spacing"
   ]
  },
  {
   "cell_type": "code",
   "execution_count": 3,
   "id": "3c0f2917",
   "metadata": {},
   "outputs": [],
   "source": [
    "args = {\"data_dir\": '/media/zhaochen/data/fluoro_gnn/data/data_no_semantic',\n",
    "        \"save_dir\": '/media/zhaochen/data/fluoro_gnn/data/data_no_semantic/processed',\n",
    "        \"centerline_length_threshold\": 10,\n",
    "        \"radius_threshold\": 1.8}\n",
    "\n",
    "class obj:\n",
    "    def __init__(self, dict1):\n",
    "        self.__dict__.update(dict1)\n",
    "        \n",
    "def dict2obj(dict1):\n",
    "    return json.loads(json.dumps(dict1), object_hook=obj)\n",
    "\n",
    "args = dict2obj(args)\n",
    "    \n",
    "eng = matlab.engine.start_matlab()"
   ]
  },
  {
   "cell_type": "code",
   "execution_count": 5,
   "id": "61a99680",
   "metadata": {},
   "outputs": [],
   "source": [
    "patient_name = '7_LCA_RAO2'\n",
    "original_file_path = os.path.join(args.data_dir, 'training/{}.png'.format(patient_name))\n",
    "binary_file_path = os.path.join(args.data_dir, 'label/{}.png'.format(patient_name))\n",
    "semantic_files_path = os.path.join(args.data_dir, 'image', patient_name)\n",
    "dist_map = diameter_map(os.path.join(args.data_dir, f'label/{patient_name}.png'), eng)"
   ]
  },
  {
   "cell_type": "code",
   "execution_count": 16,
   "id": "4c107f3e",
   "metadata": {},
   "outputs": [
    {
     "name": "stdout",
     "output_type": "stream",
     "text": [
      "26\n"
     ]
    }
   ],
   "source": [
    "vessel_objects = pickle.load(open(os.path.join(args.save_dir, f\"{patient_name}_ori.pkl\"), \"rb\"))\n",
    "print(len(vessel_objects))\n",
    "g = pickle.load(open(os.path.join(args.save_dir, f\"{patient_name}_graph.pkl\"), \"rb\"))\n",
    "nodes = pickle.load(open(os.path.join(args.save_dir, f\"{patient_name}_nodes.pkl\"), \"rb\"))"
   ]
  },
  {
   "cell_type": "code",
   "execution_count": 17,
   "id": "d3b603b2",
   "metadata": {},
   "outputs": [
    {
     "ename": "ValueError",
     "evalue": "<core.utils.module.Node object at 0x7f2ae0aac1d0> is not in list",
     "output_type": "error",
     "traceback": [
      "\u001b[0;31m---------------------------------------------------------------------------\u001b[0m",
      "\u001b[0;31mValueError\u001b[0m                                Traceback (most recent call last)",
      "\u001b[0;32m<ipython-input-17-d90dd5755e4a>\u001b[0m in \u001b[0;36m<module>\u001b[0;34m\u001b[0m\n\u001b[1;32m     28\u001b[0m         \u001b[0;32melse\u001b[0m\u001b[0;34m:\u001b[0m\u001b[0;34m\u001b[0m\u001b[0;34m\u001b[0m\u001b[0m\n\u001b[1;32m     29\u001b[0m             \u001b[0;31m# remove edge without end points\u001b[0m\u001b[0;34m\u001b[0m\u001b[0;34m\u001b[0m\u001b[0;34m\u001b[0m\u001b[0m\n\u001b[0;32m---> 30\u001b[0;31m             \u001b[0mg\u001b[0m\u001b[0;34m.\u001b[0m\u001b[0mremove_edge\u001b[0m\u001b[0;34m(\u001b[0m\u001b[0mnodes\u001b[0m\u001b[0;34m.\u001b[0m\u001b[0mindex\u001b[0m\u001b[0;34m(\u001b[0m\u001b[0mvessel_obj\u001b[0m\u001b[0;34m.\u001b[0m\u001b[0mnode1\u001b[0m\u001b[0;34m)\u001b[0m\u001b[0;34m,\u001b[0m \u001b[0mnodes\u001b[0m\u001b[0;34m.\u001b[0m\u001b[0mindex\u001b[0m\u001b[0;34m(\u001b[0m\u001b[0mvessel_obj\u001b[0m\u001b[0;34m.\u001b[0m\u001b[0mnode2\u001b[0m\u001b[0;34m)\u001b[0m\u001b[0;34m)\u001b[0m\u001b[0;34m\u001b[0m\u001b[0;34m\u001b[0m\u001b[0m\n\u001b[0m\u001b[1;32m     31\u001b[0m             \u001b[0;32mif\u001b[0m \u001b[0;32mnot\u001b[0m \u001b[0mg\u001b[0m\u001b[0;34m.\u001b[0m\u001b[0mis_connected\u001b[0m\u001b[0;34m(\u001b[0m\u001b[0;34m)\u001b[0m\u001b[0;34m:\u001b[0m\u001b[0;34m\u001b[0m\u001b[0;34m\u001b[0m\u001b[0m\n\u001b[1;32m     32\u001b[0m                 \u001b[0mg\u001b[0m\u001b[0;34m.\u001b[0m\u001b[0madd_edge\u001b[0m\u001b[0;34m(\u001b[0m\u001b[0mnodes\u001b[0m\u001b[0;34m.\u001b[0m\u001b[0mindex\u001b[0m\u001b[0;34m(\u001b[0m\u001b[0mvessel_obj\u001b[0m\u001b[0;34m.\u001b[0m\u001b[0mnode1\u001b[0m\u001b[0;34m)\u001b[0m\u001b[0;34m,\u001b[0m \u001b[0mnodes\u001b[0m\u001b[0;34m.\u001b[0m\u001b[0mindex\u001b[0m\u001b[0;34m(\u001b[0m\u001b[0mvessel_obj\u001b[0m\u001b[0;34m.\u001b[0m\u001b[0mnode2\u001b[0m\u001b[0;34m)\u001b[0m\u001b[0;34m)\u001b[0m\u001b[0;34m\u001b[0m\u001b[0;34m\u001b[0m\u001b[0m\n",
      "\u001b[0;31mValueError\u001b[0m: <core.utils.module.Node object at 0x7f2ae0aac1d0> is not in list"
     ]
    }
   ],
   "source": [
    "# def filter_vessel(vessel_objs: list, g: nx.Graph, nodes: list, dist_map,\n",
    "#                   patient_name, csv_path, radius_threshold, centerline_length_threshold):\n",
    "\n",
    "#filter vessel\n",
    "v_objs = []\n",
    "pixel_spacing = get_spacing(os.path.join(args.data_dir, \"pixel_spacing.csv\"), patient_name)\n",
    "\n",
    "for idx, vessel_obj in enumerate(vessel_objects):\n",
    "    segment_dist_map = vessel_obj.vessel_centerline * dist_map\n",
    "    # assign distance map to each vessel object\n",
    "    vessel_obj.vessel_centerline_dist = segment_dist_map\n",
    "    # average_dist = np.mean(segment_dist_map[segment_dist_map > 0])\n",
    "    mean_dist = np.mean(segment_dist_map[segment_dist_map > 0])\n",
    "    min_dist = np.min(segment_dist_map[segment_dist_map > 0])\n",
    "    max_dist = np.max(segment_dist_map[segment_dist_map > 0])\n",
    "\n",
    "    if max_dist * pixel_spacing >= args.radius_threshold and \\\n",
    "        np.sum(vessel_obj.vessel_centerline) > args.centerline_length_threshold:\n",
    "        v_objs.append(vessel_obj)\n",
    "    else:\n",
    "        # remove vessel_object\n",
    "        if vessel_obj.node1.degree == 1:\n",
    "            # remove edge with end points: in implementation, remove node will automatically remove edge\n",
    "            g.remove_node(nodes.index(vessel_obj.node1))\n",
    "        elif vessel_obj.node2.degree == 1:\n",
    "            # remove node with end points: in implementation, remove node will automatically remove edge\n",
    "            g.remove_node(nodes.index(vessel_obj.node2))\n",
    "        else:\n",
    "            # remove edge without end points\n",
    "            g.remove_edge(nodes.index(vessel_obj.node1), nodes.index(vessel_obj.node2))\n",
    "            if not g.is_connected():\n",
    "                g.add_edge(nodes.index(vessel_obj.node1), nodes.index(vessel_obj.node2))\n",
    "                v_objs.append(vessel_obj)"
   ]
  },
  {
   "cell_type": "code",
   "execution_count": null,
   "id": "868fe8a4",
   "metadata": {},
   "outputs": [],
   "source": []
  }
 ],
 "metadata": {
  "kernelspec": {
   "display_name": "Python 3 (ipykernel)",
   "language": "python",
   "name": "python3"
  },
  "language_info": {
   "codemirror_mode": {
    "name": "ipython",
    "version": 3
   },
   "file_extension": ".py",
   "mimetype": "text/x-python",
   "name": "python",
   "nbconvert_exporter": "python",
   "pygments_lexer": "ipython3",
   "version": "3.6.15"
  }
 },
 "nbformat": 4,
 "nbformat_minor": 5
}
